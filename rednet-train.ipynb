{
 "cells": [
  {
   "cell_type": "code",
   "execution_count": null,
   "metadata": {
    "pycharm": {
     "is_executing": false
    }
   },
   "outputs": [],
   "source": [
    "from __future__ import print_function, absolute_import, with_statement\n",
    "# from IPython import display as ipythondisplay\n",
    "import tensorflow as tf\n",
    "# tf.enable_eager_execution()\n",
    "\n",
    "import matplotlib.pyplot as plt\n",
    "%matplotlib inline\n",
    "import numpy as np\n",
    "import cv2\n",
    "import os\n",
    "\n",
    "# Import plot utilities\n",
    "from dl_utils import myplot\n",
    "\n",
    "# Detect hardware\n",
    "try:\n",
    "  tpu = tf.distribute.cluster_resolver.TPUClusterResolver() # TPU detection\n",
    "except ValueError: # If TPU not found\n",
    "  tpu = None\n",
    "  \n",
    "# Select appropriate distribution strategy\n",
    "if tpu:\n",
    "  tf.tpu.experimental.initialize_tpu_system(tpu)\n",
    "  strategy = tf.distribute.experimental.TPUStrategy(tpu, steps_per_run=128)\n",
    "  print('Running on TPU ', tpu.cluster_spec().as_dict()['worker'])  \n",
    "else:\n",
    "  strategy = tf.distribute.get_strategy() # Default strategy that works on CPU and single GPU\n",
    "  print('Running on CPU instead')\n",
    "print(\"Number of accelerators: \", strategy.num_replicas_in_sync)\n"
   ]
  },
  {
   "cell_type": "code",
   "execution_count": null,
   "metadata": {
    "pycharm": {
     "is_executing": true
    }
   },
   "outputs": [],
   "source": [
    "import numpy as np\n",
    "\n",
    "TRAIN_BUF = 50000\n",
    "TEST_BUF = 10000\n",
    "BATCH_SIZE = 2000\n",
    "\n",
    "# Setup jpeg noise function\n",
    "jpeg_params = dict(min_jpeg_quality=25, \n",
    "                   max_jpeg_quality=50)\n",
    "\n",
    "def add_jpeg_noise(img, jpeg_quality=25):\n",
    "  jpeg_quality = jpeg_quality\n",
    "  img_corrupt = tf.image.adjust_jpeg_quality(img, jpeg_quality)\n",
    "  img_corrupt = tf.clip_by_value(img_corrupt, 0, 1)\n",
    "  return img_corrupt\n",
    "\n",
    "def random_jpeg_noise(img, min_jpeg_quality=25, max_jpeg_quality=50):\n",
    "  img_corrupt = tf.image.random_jpeg_quality(img, **jpeg_params)\n",
    "  img_corrupt = tf.clip_by_value(img_corrupt, 0, 1)\n",
    "  return img_corrupt\n",
    "\n",
    "def add_random_noise(img):\n",
    "  noise_factor = 0.1\n",
    "  img_corrupt = img + noise_factor * np.random.normal(loc=0.0, scale=1.0, size=img.shape[:-1])\n",
    "  img_corrupt = np.clip(img_corrupt, 0, 1)\n",
    "  return img_corrupt\n",
    "\n",
    "def prepare_image_dataset(x):\n",
    "  x = tf.cast(x, tf.float32) / 255\n",
    "  #x = x.astype('float32') / 255\n",
    "  return x\n",
    "\n",
    "def cv2_jpeg_encode(img):\n",
    "  jpeg_quality = 10\n",
    "  img = np.array(img)\n",
    "  if img.max() <= 1:\n",
    "    img = np.multiply(img, 255)\n",
    "  img = cv2.imencode('.jpg', img, [cv2.IMWRITE_JPEG_QUALITY, jpeg_quality])[1]\n",
    "  img = cv2.imdecode(img, cv2.IMREAD_COLOR)\n",
    "  return img\n",
    "\n",
    "def cv2_jpeg(img_in):\n",
    "  import tempfile\n",
    "  import os\n",
    "  tmp_dir = tempfile.gettempdir()\n",
    "  img_dir = os.path.join(tmp_dir, \"images\")\n",
    "  img_path = os.path.join(img_dir, \"tmp.jpg\")\n",
    "  if not os.path.exists(img_dir):\n",
    "    os.mkdir(img_dir)\n",
    "  jpeg_quality = 10\n",
    "  img = img_in.copy()\n",
    "  img = np.array(img)\n",
    "  if img.max() <= 1:\n",
    "    img = np.multiply(img, 255)\n",
    "  cv2.imwrite(img_path, img, [cv2.IMWRITE_JPEG_QUALITY, jpeg_quality])\n",
    "  img = cv2.imread(img_path, cv2.IMREAD_COLOR)\n",
    "#   img = cv2.cvtColor(img, cv2.COLOR_BGR2RGB)\n",
    "  return img\n",
    "\n",
    "def resize_image_dataset(img, size=(64,64)):\n",
    "  size = size\n",
    "  #method = tf.image.ResizeMethod.BICUBIC\n",
    "  img_resize = tf.image.resize_images(img, size)#, method=method)\n",
    "  #img_resize = tf.image.resize_bicubic(img, size)\n",
    "  return img_resize\n",
    "\n",
    "# Load CIFAR10 Images\n",
    "def cifar10_dataset():\n",
    "  (x_train, _), (x_test, _) = tf.keras.datasets.cifar10.load_data()\n",
    "  print(\"Import: Dtype: \", x_train.dtype, \" Training Dataset Dimensions: \", x_train.shape, \"Training Dataset Max: \", x_train.max())\n",
    "  print(\"Import: Dtype: \", x_train.dtype, \"Testing Dataset Dimensions: \", x_test.shape, \"Testing Dataset Max: \", x_test.max())\n",
    "  x_train_corrupt = x_train.copy()\n",
    "  x_test_corrupt = x_test.copy()\n",
    "  x_train = x_train.astype('float32') / 255.\n",
    "  x_test = x_test.astype('float32') / 255.\n",
    "  x_train_corrupt = x_train_corrupt.astype('float32') / 255.\n",
    "  x_test_corrupt = x_test_corrupt.astype('float32') / 255.\n",
    "  \n",
    "  for img_train in x_train_corrupt:\n",
    "#     img_train = add_jpeg_noise(img_train)\n",
    "    img_train = cv2_jpeg(img_train)\n",
    "  for img_test in x_test_corrupt:\n",
    "#     img_test = add_jpeg_noise(img_test)\n",
    "    img_test = cv2_jpeg(img_test)\n",
    "    \n",
    "  return (x_train, x_train_corrupt), (x_test, x_test_corrupt)\n",
    "  \n",
    "def prepare_mnist_features_and_labels(x, y):\n",
    "  x = tf.cast(x, tf.float32) / 255.0\n",
    "  y = tf.cast(y, tf.int64)\n",
    "  return x, y\n",
    "\n",
    "def mnist_dataset():\n",
    "  (x, y), _ = tf.keras.datasets.mnist.load_data()\n",
    "  print(\"x shape: \", x.shape)\n",
    "  ds = tf.data.Dataset.from_tensor_slices((x, y))\n",
    "  ds = ds.map(prepare_mnist_features_and_labels)\n",
    "  ds = ds.take(20000).shuffle(20000).batch(100)\n",
    "  return ds\n",
    "\n",
    "(train_dataset, train_dataset_corrupt), (test_dataset, test_dataset_corrupt) = cifar10_dataset()\n",
    "\n",
    "myplot(train_dataset[:5], title=\"train_dataset_3\")\n",
    "myplot(train_dataset_corrupt[:5], title=\"train_dataset_corrupt_3\")\n",
    "myplot(test_dataset[:5], title=\"test_dataset_3\")\n",
    "myplot(test_dataset_corrupt[:5], title=\"test_dataset_corrupt_3\")"
   ]
  },
  {
   "cell_type": "code",
   "execution_count": 2,
   "metadata": {},
   "outputs": [],
   "source": [
    "import numpy as np\n",
    "import cv2\n",
    "\n",
    "img_path = \"D:\\Data\\images_000000.png\"\n",
    "img = cv2.imread(img_path, cv2.IMREAD_COLOR)\n",
    "img = cv2.cvtColor(img, cv2.COLOR_BGR2RGB)\n",
    "test = np.expand_dims(img, 0).astype('float32') / 255"
   ]
  },
  {
   "cell_type": "code",
   "execution_count": 3,
   "metadata": {},
   "outputs": [
    {
     "name": "stdout",
     "output_type": "stream",
     "text": [
      "batch_shape: (1, 256, 448, 3), batch_dim: 4, clip_max: 1\n"
     ]
    },
    {
     "data": {
      "image/png": "[encoded data removed]",
      "text/plain": [
       "<Figure size 144x144 with 1 Axes>"
      ]
     },
     "metadata": {
      "needs_background": "light"
     },
     "output_type": "display_data"
    }
   ],
   "source": [
    "myplot(test)"
   ]
  },
  {
   "cell_type": "code",
   "execution_count": 4,
   "metadata": {},
   "outputs": [
    {
     "data": {
      "text/plain": [
       "1.0"
      ]
     },
     "execution_count": 4,
     "metadata": {},
     "output_type": "execute_result"
    }
   ],
   "source": [
    "test.max()"
   ]
  },
  {
   "cell_type": "code",
   "execution_count": 1,
   "metadata": {},
   "outputs": [
    {
     "name": "stderr",
     "output_type": "stream",
     "text": [
      "WARNING: Logging before flag parsing goes to stderr.\n",
      "W0830 19:28:11.570875 10568 deprecation.py:506] From C:\\Users\\Patrick\\Anaconda3\\envs\\tf\\lib\\site-packages\\tensorflow\\python\\ops\\init_ops.py:1251: calling VarianceScaling.__init__ (from tensorflow.python.ops.init_ops) with dtype is deprecated and will be removed in a future version.\n",
      "Instructions for updating:\n",
      "Call initializer instance with the dtype argument instead of passing it to the constructor\n"
     ]
    },
    {
     "name": "stdout",
     "output_type": "stream",
     "text": [
      "Model: \"REDNet5\"\n",
      "_________________________________________________________________\n",
      "Layer (type)                 Output Shape              Param #   \n",
      "=================================================================\n",
      "encoder_inputs (InputLayer)  [(None, 32, 32, 3)]       0         \n",
      "_________________________________________________________________\n",
      "conv1 (Conv2D)               (None, 32, 32, 32)        896       \n",
      "_________________________________________________________________\n",
      "conv2 (Conv2D)               (None, 32, 32, 32)        9248      \n",
      "_________________________________________________________________\n",
      "conv3 (Conv2D)               (None, 32, 32, 32)        9248      \n",
      "_________________________________________________________________\n",
      "conv4 (Conv2D)               (None, 32, 32, 32)        9248      \n",
      "_________________________________________________________________\n",
      "conv5 (Conv2D)               (None, 32, 32, 32)        9248      \n",
      "_________________________________________________________________\n",
      "deconv1 (Conv2DTranspose)    (None, 32, 32, 32)        9248      \n",
      "_________________________________________________________________\n",
      "deconv2 (Conv2DTranspose)    (None, 32, 32, 32)        9248      \n",
      "_________________________________________________________________\n",
      "deconv3 (Conv2DTranspose)    (None, 32, 32, 32)        9248      \n",
      "_________________________________________________________________\n",
      "deconv4 (Conv2DTranspose)    (None, 32, 32, 32)        9248      \n",
      "_________________________________________________________________\n",
      "deconv5 (Conv2DTranspose)    (None, 32, 32, 3)         867       \n",
      "=================================================================\n",
      "Total params: 75,747\n",
      "Trainable params: 75,747\n",
      "Non-trainable params: 0\n",
      "_________________________________________________________________\n"
     ]
    }
   ],
   "source": [
    "import tensorflow as tf\n",
    "# tf.enable_eager_execution()\n",
    "import matplotlib.pyplot as plt\n",
    "# %matplotlib inline\n",
    "import numpy as np\n",
    "import cv2\n",
    "import os\n",
    "\n",
    "# Import plot utilities\n",
    "from dl_utils import myplot\n",
    "import os\n",
    "import h5py\n",
    "from rednet import REDNet\n",
    "\n",
    "model_dir = \"D:\\OneDrive\\Code\\REDNet-TensorFlow\\models\"\n",
    "model_name = \"rednet_model.h5\"\n",
    "weights_name = \"rednet_weights_5c5d2s.h5\"\n",
    "model_path = os.path.join(model_dir, model_name)\n",
    "weights_path = os.path.join(model_dir, weights_name)\n",
    "model, encoder, decoder = REDNet()\n",
    "model.load_weights(weights_path)\n",
    "model.summary()\n",
    "\n",
    "optimizer = tf.keras.optimizers.Adam(lr=0.001)\n",
    "\n",
    "# Compile Model and fit\n",
    "model.compile(optimizer, \n",
    "              loss=tf.keras.losses.MeanSquaredError(), \n",
    "              metrics=['mse'])"
   ]
  },
  {
   "cell_type": "code",
   "execution_count": null,
   "metadata": {},
   "outputs": [],
   "source": [
    "test.shape"
   ]
  },
  {
   "cell_type": "code",
   "execution_count": null,
   "metadata": {},
   "outputs": [],
   "source": [
    "img_out = model(test)"
   ]
  },
  {
   "cell_type": "code",
   "execution_count": null,
   "metadata": {},
   "outputs": [],
   "source": [
    "img_out.dtype"
   ]
  },
  {
   "cell_type": "code",
   "execution_count": null,
   "metadata": {},
   "outputs": [],
   "source": [
    "type(img_out)"
   ]
  },
  {
   "cell_type": "code",
   "execution_count": null,
   "metadata": {},
   "outputs": [],
   "source": [
    "init = tf.global_variables_initializer()\n",
    "with tf.Session() as sess:\n",
    "    sess.run(init)\n",
    "    img = sess.run(img_out)\n"
   ]
  },
  {
   "cell_type": "code",
   "execution_count": null,
   "metadata": {},
   "outputs": [],
   "source": [
    "type(img)"
   ]
  },
  {
   "cell_type": "code",
   "execution_count": null,
   "metadata": {},
   "outputs": [],
   "source": [
    "img.max()"
   ]
  },
  {
   "cell_type": "code",
   "execution_count": null,
   "metadata": {},
   "outputs": [],
   "source": [
    "img.shape"
   ]
  },
  {
   "cell_type": "code",
   "execution_count": null,
   "metadata": {},
   "outputs": [],
   "source": [
    "y = img.reshape(img.shape[1:])"
   ]
  },
  {
   "cell_type": "code",
   "execution_count": null,
   "metadata": {},
   "outputs": [],
   "source": [
    "y.shape"
   ]
  },
  {
   "cell_type": "code",
   "execution_count": null,
   "metadata": {},
   "outputs": [],
   "source": [
    "y = (y-y.min())/(y.max()-y.min())"
   ]
  },
  {
   "cell_type": "code",
   "execution_count": null,
   "metadata": {},
   "outputs": [],
   "source": [
    "plt.imshow(y)"
   ]
  },
  {
   "cell_type": "code",
   "execution_count": null,
   "metadata": {},
   "outputs": [],
   "source": []
  },
  {
   "cell_type": "code",
   "execution_count": 5,
   "metadata": {},
   "outputs": [],
   "source": [
    "n, m, c = test.shape[1:]\n",
    "n_stride = n // 32\n",
    "m_stride = m // 32"
   ]
  },
  {
   "cell_type": "code",
   "execution_count": 6,
   "metadata": {},
   "outputs": [],
   "source": [
    "batch_dim = n_stride * m_stride\n",
    "index = np.arange(batch_dim)"
   ]
  },
  {
   "cell_type": "code",
   "execution_count": 7,
   "metadata": {},
   "outputs": [],
   "source": [
    "test_list = []\n",
    "for i in range(batch_dim):\n",
    "    ni = i % n_stride\n",
    "    mi = i // n_stride\n",
    "    nidx = ni*32\n",
    "    midx = mi*32\n",
    "    test_list.append(tf.cast(test[0, nidx:nidx+32, midx:midx+32, :], dtype=tf.float32))"
   ]
  },
  {
   "cell_type": "code",
   "execution_count": 8,
   "metadata": {},
   "outputs": [],
   "source": [
    "test_batch = tf.stack(test_list)"
   ]
  },
  {
   "cell_type": "code",
   "execution_count": 9,
   "metadata": {},
   "outputs": [
    {
     "data": {
      "text/plain": [
       "TensorShape([Dimension(112), Dimension(32), Dimension(32), Dimension(3)])"
      ]
     },
     "execution_count": 9,
     "metadata": {},
     "output_type": "execute_result"
    }
   ],
   "source": [
    "test_batch.shape"
   ]
  },
  {
   "cell_type": "code",
   "execution_count": 10,
   "metadata": {},
   "outputs": [],
   "source": [
    "test_pred = model(test_batch)"
   ]
  },
  {
   "cell_type": "code",
   "execution_count": null,
   "metadata": {},
   "outputs": [],
   "source": [
    "init = tf.global_variables_initializer()\n",
    "with tf.Session() as sess:\n",
    "    sess.run(init)\n",
    "    img_pred = sess.run(test_pred)"
   ]
  },
  {
   "cell_type": "code",
   "execution_count": null,
   "metadata": {},
   "outputs": [],
   "source": [
    "img_pred.shape"
   ]
  },
  {
   "cell_type": "code",
   "execution_count": null,
   "metadata": {},
   "outputs": [],
   "source": [
    "type(img_pred)"
   ]
  },
  {
   "cell_type": "code",
   "execution_count": null,
   "metadata": {},
   "outputs": [],
   "source": [
    "img_reshape = np.zeros(shape=test.shape[1:])"
   ]
  },
  {
   "cell_type": "code",
   "execution_count": null,
   "metadata": {},
   "outputs": [],
   "source": [
    "for i in range(batch_dim):\n",
    "    ni = i % n_stride\n",
    "    mi = i // n_stride\n",
    "    nidx = ni*32\n",
    "    midx = mi*32\n",
    "    img_reshape[nidx:nidx+32, midx:midx+32, :] = img_pred[i, :, :, :]"
   ]
  },
  {
   "cell_type": "code",
   "execution_count": null,
   "metadata": {},
   "outputs": [],
   "source": [
    "img_reshape.shape"
   ]
  },
  {
   "cell_type": "code",
   "execution_count": null,
   "metadata": {},
   "outputs": [],
   "source": [
    "img_reshape.ptp()"
   ]
  },
  {
   "cell_type": "code",
   "execution_count": null,
   "metadata": {},
   "outputs": [],
   "source": [
    "img_reshape = (img_reshape-img_reshape.min())/(img_reshape.ptp())"
   ]
  },
  {
   "cell_type": "code",
   "execution_count": null,
   "metadata": {},
   "outputs": [],
   "source": [
    "plt.imshow(img_reshape)"
   ]
  },
  {
   "cell_type": "code",
   "execution_count": null,
   "metadata": {},
   "outputs": [],
   "source": []
  },
  {
   "cell_type": "code",
   "execution_count": null,
   "metadata": {},
   "outputs": [],
   "source": []
  },
  {
   "cell_type": "code",
   "execution_count": null,
   "metadata": {},
   "outputs": [],
   "source": [
    "plt.imshow(im)"
   ]
  },
  {
   "cell_type": "code",
   "execution_count": null,
   "metadata": {},
   "outputs": [],
   "source": [
    "plt.imshow(test_batch[0])"
   ]
  },
  {
   "cell_type": "code",
   "execution_count": null,
   "metadata": {},
   "outputs": [],
   "source": [
    "y0 = tf.expand_dims(test[0, :32, :32, :], 0)"
   ]
  },
  {
   "cell_type": "code",
   "execution_count": null,
   "metadata": {},
   "outputs": [],
   "source": [
    "model(y0)"
   ]
  },
  {
   "cell_type": "code",
   "execution_count": null,
   "metadata": {},
   "outputs": [],
   "source": [
    "y = model.predict(y0)"
   ]
  },
  {
   "cell_type": "code",
   "execution_count": null,
   "metadata": {},
   "outputs": [],
   "source": [
    "with tf.Session as sess:\n",
    "    im = sess.run(y)\n",
    "plt.imshow(im)"
   ]
  },
  {
   "cell_type": "code",
   "execution_count": null,
   "metadata": {},
   "outputs": [],
   "source": []
  },
  {
   "cell_type": "code",
   "execution_count": null,
   "metadata": {},
   "outputs": [],
   "source": []
  },
  {
   "cell_type": "code",
   "execution_count": null,
   "metadata": {},
   "outputs": [],
   "source": []
  },
  {
   "cell_type": "code",
   "execution_count": null,
   "metadata": {},
   "outputs": [],
   "source": [
    "model.inputs[0]"
   ]
  }
 ],
 "metadata": {
  "kernelspec": {
   "display_name": "Python [conda env:tf] *",
   "language": "python",
   "name": "conda-env-tf-py"
  },
  "language_info": {
   "codemirror_mode": {
    "name": "ipython",
    "version": 3
   },
   "file_extension": ".py",
   "mimetype": "text/x-python",
   "name": "python",
   "nbconvert_exporter": "python",
   "pygments_lexer": "ipython3",
   "version": "3.7.4"
  },
  "pycharm": {
   "stem_cell": {
    "cell_type": "raw",
    "metadata": {
     "collapsed": false
    },
    "source": []
   }
  }
 },
 "nbformat": 4,
 "nbformat_minor": 4
}
