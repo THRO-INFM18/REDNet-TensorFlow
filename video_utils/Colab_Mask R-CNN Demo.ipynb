{
 "cells": [
  {
   "cell_type": "markdown",
   "metadata": {
    "colab_type": "text",
    "id": "BlmQIFSLZDdc"
   },
   "source": [
    "#[How to run Object Detection and Segmentation on a Video Fast for Free](https://www.dlology.com/blog/how-to-run-object-detection-and-segmentation-on-video-fast-for-free/)\n",
    "\n",
    "## Confirm TensorFlow can see the GPU\n",
    "\n",
    "Simply select \"GPU\" in the Accelerator drop-down in Notebook Settings (either through the Edit menu or the command palette at cmd/ctrl-shift-P)."
   ]
  },
  {
   "cell_type": "code",
   "execution_count": null,
   "metadata": {
    "colab": {
     "base_uri": "https://localhost:8080/",
     "height": 34
    },
    "colab_type": "code",
    "executionInfo": {
     "elapsed": 1752,
     "status": "ok",
     "timestamp": 1555576373971,
     "user": {
      "displayName": "Patrick McBride",
      "photoUrl": "",
      "userId": "06244499779717589203"
     },
     "user_tz": 420
    },
    "id": "3IEVK-KFxi5Z",
    "outputId": "8d2f8338-e21b-42ef-d50f-b3a5dd0e08e5"
   },
   "outputs": [],
   "source": [
    "import tensorflow as tf\n",
    "device_name = tf.test.gpu_device_name()\n",
    "if device_name != '/device:GPU:0':\n",
    "  raise SystemError('GPU device not found')\n",
    "print('Found GPU at: {}'.format(device_name))"
   ]
  },
  {
   "cell_type": "code",
   "execution_count": null,
   "metadata": {
    "colab": {
     "base_uri": "https://localhost:8080/",
     "height": 496
    },
    "colab_type": "code",
    "executionInfo": {
     "elapsed": 440,
     "status": "ok",
     "timestamp": 1555574356746,
     "user": {
      "displayName": "Patrick McBride",
      "photoUrl": "",
      "userId": "06244499779717589203"
     },
     "user_tz": 420
    },
    "id": "u_FHLPdtdI5Z",
    "outputId": "622ec423-2bcb-4a6f-c5db-15b3b56df5e3"
   },
   "outputs": [],
   "source": [
    "from tensorflow.python.client import device_lib\n",
    "device_lib.list_local_devices()"
   ]
  },
  {
   "cell_type": "markdown",
   "metadata": {
    "colab_type": "text",
    "id": "G4QlSH4BAmvF"
   },
   "source": [
    "## Install pycocotools"
   ]
  },
  {
   "cell_type": "code",
   "execution_count": null,
   "metadata": {
    "colab": {
     "base_uri": "https://localhost:8080/",
     "height": 54
    },
    "colab_type": "code",
    "executionInfo": {
     "elapsed": 2306,
     "status": "ok",
     "timestamp": 1555576380529,
     "user": {
      "displayName": "Patrick McBride",
      "photoUrl": "",
      "userId": "06244499779717589203"
     },
     "user_tz": 420
    },
    "id": "6Jkma4_y0Gn8",
    "outputId": "7b85bd2d-debc-470e-cdb2-85903410ff62"
   },
   "outputs": [],
   "source": [
    "!pip install Cython"
   ]
  },
  {
   "cell_type": "code",
   "execution_count": null,
   "metadata": {
    "colab": {
     "base_uri": "https://localhost:8080/",
     "height": 51
    },
    "colab_type": "code",
    "executionInfo": {
     "elapsed": 1334,
     "status": "ok",
     "timestamp": 1555576391028,
     "user": {
      "displayName": "Patrick McBride",
      "photoUrl": "",
      "userId": "06244499779717589203"
     },
     "user_tz": 420
    },
    "id": "tT7xOQD5pS5G",
    "outputId": "ba55d214-b8f8-497d-8da5-03ee0b802d5f"
   },
   "outputs": [],
   "source": [
    "!pwd\n",
    "!ls"
   ]
  },
  {
   "cell_type": "code",
   "execution_count": null,
   "metadata": {
    "colab": {
     "base_uri": "https://localhost:8080/",
     "height": 34
    },
    "colab_type": "code",
    "executionInfo": {
     "elapsed": 816,
     "status": "ok",
     "timestamp": 1555576402927,
     "user": {
      "displayName": "Patrick McBride",
      "photoUrl": "",
      "userId": "06244499779717589203"
     },
     "user_tz": 420
    },
    "id": "1efXeBhJ0MIi",
    "outputId": "46398143-3d56-4baa-920c-231c962e37ac"
   },
   "outputs": [],
   "source": [
    "!git clone https://github.com/waleedka/coco"
   ]
  },
  {
   "cell_type": "markdown",
   "metadata": {
    "colab_type": "text",
    "id": "77oTq4Dok4kq"
   },
   "source": []
  },
  {
   "cell_type": "code",
   "execution_count": null,
   "metadata": {
    "colab": {
     "base_uri": "https://localhost:8080/",
     "height": 1908
    },
    "colab_type": "code",
    "executionInfo": {
     "elapsed": 18587,
     "status": "ok",
     "timestamp": 1555576446430,
     "user": {
      "displayName": "Patrick McBride",
      "photoUrl": "",
      "userId": "06244499779717589203"
     },
     "user_tz": 420
    },
    "id": "85CxqaK8yHEV",
    "outputId": "bc33d3ba-94cd-45e7-d612-c7071981d19d"
   },
   "outputs": [],
   "source": [
    "!pip install -U setuptools\n",
    "!pip install -U wheel\n",
    "!pip install 'keras==2.1.6' --force-reinstall\n",
    "!make install -C coco/PythonAPI"
   ]
  },
  {
   "cell_type": "markdown",
   "metadata": {
    "colab_type": "text",
    "id": "DswpLud4A0jf"
   },
   "source": [
    "## Git Clone the code"
   ]
  },
  {
   "cell_type": "code",
   "execution_count": null,
   "metadata": {
    "colab": {
     "base_uri": "https://localhost:8080/",
     "height": 54
    },
    "colab_type": "code",
    "executionInfo": {
     "elapsed": 852,
     "status": "ok",
     "timestamp": 1555576482147,
     "user": {
      "displayName": "Patrick McBride",
      "photoUrl": "",
      "userId": "06244499779717589203"
     },
     "user_tz": 420
    },
    "id": "-MrtCPbyzb12",
    "outputId": "22172e7d-a5a3-4927-dab1-41f4033cb17d"
   },
   "outputs": [],
   "source": [
    "!git clone https://github.com/matterport/Mask_RCNN"
   ]
  },
  {
   "cell_type": "markdown",
   "metadata": {
    "colab_type": "text",
    "id": "UZd4msdzA5HT"
   },
   "source": [
    "## cd to the code directory and optionally download the weights file"
   ]
  },
  {
   "cell_type": "code",
   "execution_count": null,
   "metadata": {
    "colab": {
     "base_uri": "https://localhost:8080/",
     "height": 326
    },
    "colab_type": "code",
    "executionInfo": {
     "elapsed": 5150,
     "status": "ok",
     "timestamp": 1555576494587,
     "user": {
      "displayName": "Patrick McBride",
      "photoUrl": "",
      "userId": "06244499779717589203"
     },
     "user_tz": 420
    },
    "id": "zuWUMbul22-u",
    "outputId": "35221124-b1ed-4579-c7c4-9f57004bff13"
   },
   "outputs": [],
   "source": [
    "import os\n",
    "os.chdir('./Mask_RCNN')\n",
    "!git checkout 555126ee899a144ceff09e90b5b2cf46c321200c\n",
    "!wget https://github.com/matterport/Mask_RCNN/releases/download/v2.0/mask_rcnn_coco.h5"
   ]
  },
  {
   "cell_type": "code",
   "execution_count": null,
   "metadata": {
    "colab": {
     "base_uri": "https://localhost:8080/",
     "height": 136
    },
    "colab_type": "code",
    "executionInfo": {
     "elapsed": 790,
     "status": "ok",
     "timestamp": 1555576525532,
     "user": {
      "displayName": "Patrick McBride",
      "photoUrl": "",
      "userId": "06244499779717589203"
     },
     "user_tz": 420
    },
    "id": "F_bTpx1X9Yjq",
    "outputId": "4e033204-b587-4f44-ed9a-7e9abf3e15c6"
   },
   "outputs": [],
   "source": [
    "!ls"
   ]
  },
  {
   "cell_type": "markdown",
   "metadata": {
    "colab_type": "text",
    "id": "QHLQOznQ-WSC"
   },
   "source": [
    "# Mask R-CNN Demo\n",
    "\n",
    "A quick intro to using the pre-trained model to detect and segment objects."
   ]
  },
  {
   "cell_type": "code",
   "execution_count": null,
   "metadata": {
    "colab": {
     "base_uri": "https://localhost:8080/",
     "height": 34
    },
    "colab_type": "code",
    "executionInfo": {
     "elapsed": 602,
     "status": "ok",
     "timestamp": 1555576527767,
     "user": {
      "displayName": "Patrick McBride",
      "photoUrl": "",
      "userId": "06244499779717589203"
     },
     "user_tz": 420
    },
    "id": "NInWHdIE2GpR",
    "outputId": "9157d68a-8b95-44b7-dddf-e7a43c2bc971"
   },
   "outputs": [],
   "source": [
    "import os\n",
    "import sys\n",
    "import random\n",
    "import math\n",
    "import numpy as np\n",
    "import skimage.io\n",
    "import matplotlib\n",
    "import matplotlib.pyplot as plt\n",
    "\n",
    "import coco\n",
    "import utils\n",
    "import model as modellib\n",
    "import visualize\n",
    "\n",
    "%matplotlib inline \n",
    "\n",
    "# Root directory of the project\n",
    "ROOT_DIR = os.getcwd()\n",
    "\n",
    "# Directory to save logs and trained model\n",
    "MODEL_DIR = os.path.join(ROOT_DIR, \"logs\")\n",
    "\n",
    "# Local path to trained weights file\n",
    "COCO_MODEL_PATH = os.path.join(ROOT_DIR, \"mask_rcnn_coco.h5\")\n",
    "# Download COCO trained weights from Releases if needed\n",
    "if not os.path.exists(COCO_MODEL_PATH):\n",
    "    utils.download_trained_weights(COCO_MODEL_PATH)\n",
    "\n",
    "# Directory of images to run detection on\n",
    "IMAGE_DIR = os.path.join(ROOT_DIR, \"images\")"
   ]
  },
  {
   "cell_type": "markdown",
   "metadata": {
    "colab_type": "text",
    "id": "04kWKli09fpq"
   },
   "source": [
    "## Configurations\n",
    "\n",
    "We'll be using a model trained on the MS-COCO dataset. The configurations of this model are in the ```CocoConfig``` class in ```coco.py```.\n",
    "\n",
    "For inferencing, modify the configurations a bit to fit the task. To do so, sub-class the ```CocoConfig``` class and override the attributes you need to change."
   ]
  },
  {
   "cell_type": "code",
   "execution_count": null,
   "metadata": {
    "colab": {
     "base_uri": "https://localhost:8080/",
     "height": 816
    },
    "colab_type": "code",
    "executionInfo": {
     "elapsed": 264,
     "status": "ok",
     "timestamp": 1555576577942,
     "user": {
      "displayName": "Patrick McBride",
      "photoUrl": "",
      "userId": "06244499779717589203"
     },
     "user_tz": 420
    },
    "id": "Rymd_7lP9gCC",
    "outputId": "9c4a5a87-6b13-4a14-e0e9-886f3f75197d"
   },
   "outputs": [],
   "source": [
    "class InferenceConfig(coco.CocoConfig):\n",
    "    # Set batch size to 1 since we'll be running inference on\n",
    "    # one image at a time. Batch size = GPU_COUNT * IMAGES_PER_GPU\n",
    "    GPU_COUNT = 1\n",
    "    IMAGES_PER_GPU = 1\n",
    "\n",
    "config = InferenceConfig()\n",
    "config.display()"
   ]
  },
  {
   "cell_type": "markdown",
   "metadata": {
    "colab_type": "text",
    "id": "m5PVECAQ9kkn"
   },
   "source": [
    "## Create Model and Load Trained Weights"
   ]
  },
  {
   "cell_type": "code",
   "execution_count": null,
   "metadata": {
    "colab": {
     "base_uri": "https://localhost:8080/",
     "height": 190
    },
    "colab_type": "code",
    "executionInfo": {
     "elapsed": 9094,
     "status": "ok",
     "timestamp": 1555576655314,
     "user": {
      "displayName": "Patrick McBride",
      "photoUrl": "",
      "userId": "06244499779717589203"
     },
     "user_tz": 420
    },
    "id": "M3wcuq8-9g7X",
    "outputId": "f0f76976-6b02-4f5e-a465-bc8c62febf99"
   },
   "outputs": [],
   "source": [
    "# Create model object in inference mode.\n",
    "model = modellib.MaskRCNN(mode=\"inference\", model_dir=MODEL_DIR, config=config)\n",
    "\n",
    "# Load weights trained on MS-COCO\n",
    "model.load_weights(COCO_MODEL_PATH, by_name=True)"
   ]
  },
  {
   "cell_type": "markdown",
   "metadata": {
    "colab_type": "text",
    "id": "alMRDVDo9qGB"
   },
   "source": [
    "## Class Names\n",
    "\n",
    "The model classifies objects and returns class IDs, which are integer value that identify each class. Some datasets assign integer values to their classes and some don't. For example, in the MS-COCO dataset, the 'person' class is 1 and 'teddy bear' is 88. The IDs are often sequential, but not always. The COCO dataset, for example, has classes associated with class IDs 70 and 72, but not 71.\n",
    "\n",
    "To improve consistency, and to support training on data from multiple sources at the same time, our ```Dataset``` class assigns it's own sequential integer IDs to each class. For example, if you load the COCO dataset using our ```Dataset``` class, the 'person' class would get class ID = 1 (just like COCO) and the 'teddy bear' class is 78 (different from COCO). Keep that in mind when mapping class IDs to class names.\n",
    "\n",
    "To get the list of class names, you'd load the dataset and then use the ```class_names``` property like this.\n",
    "```\n",
    "# Load COCO dataset\n",
    "dataset = coco.CocoDataset()\n",
    "dataset.load_coco(COCO_DIR, \"train\")\n",
    "dataset.prepare()\n",
    "\n",
    "# Print class names\n",
    "print(dataset.class_names)\n",
    "```\n",
    "\n",
    "We don't want to require you to download the COCO dataset just to run this demo, so we're including the list of class names below. The index of the class name in the list represent its ID (first class is 0, second is 1, third is 2, ...etc.)"
   ]
  },
  {
   "cell_type": "code",
   "execution_count": null,
   "metadata": {
    "colab": {},
    "colab_type": "code",
    "id": "p4BA4vKD9mbQ"
   },
   "outputs": [],
   "source": [
    "# COCO Class names\n",
    "# Index of the class in the list is its ID. For example, to get ID of\n",
    "# the teddy bear class, use: class_names.index('teddy bear')\n",
    "class_names = ['BG', 'person', 'bicycle', 'car', 'motorcycle', 'airplane',\n",
    "               'bus', 'train', 'truck', 'boat', 'traffic light',\n",
    "               'fire hydrant', 'stop sign', 'parking meter', 'bench', 'bird',\n",
    "               'cat', 'dog', 'horse', 'sheep', 'cow', 'elephant', 'bear',\n",
    "               'zebra', 'giraffe', 'backpack', 'umbrella', 'handbag', 'tie',\n",
    "               'suitcase', 'frisbee', 'skis', 'snowboard', 'sports ball',\n",
    "               'kite', 'baseball bat', 'baseball glove', 'skateboard',\n",
    "               'surfboard', 'tennis racket', 'bottle', 'wine glass', 'cup',\n",
    "               'fork', 'knife', 'spoon', 'bowl', 'banana', 'apple',\n",
    "               'sandwich', 'orange', 'broccoli', 'carrot', 'hot dog', 'pizza',\n",
    "               'donut', 'cake', 'chair', 'couch', 'potted plant', 'bed',\n",
    "               'dining table', 'toilet', 'tv', 'laptop', 'mouse', 'remote',\n",
    "               'keyboard', 'cell phone', 'microwave', 'oven', 'toaster',\n",
    "               'sink', 'refrigerator', 'book', 'clock', 'vase', 'scissors',\n",
    "               'teddy bear', 'hair drier', 'toothbrush']"
   ]
  },
  {
   "cell_type": "code",
   "execution_count": null,
   "metadata": {
    "colab": {
     "base_uri": "https://localhost:8080/",
     "height": 34
    },
    "colab_type": "code",
    "executionInfo": {
     "elapsed": 241,
     "status": "ok",
     "timestamp": 1555576753313,
     "user": {
      "displayName": "Patrick McBride",
      "photoUrl": "",
      "userId": "06244499779717589203"
     },
     "user_tz": 420
    },
    "id": "C28-ZEOnmUw-",
    "outputId": "82a1c82d-770a-4a55-801c-e508c946b431"
   },
   "outputs": [],
   "source": [
    "class_names.index('teddy bear')"
   ]
  },
  {
   "cell_type": "markdown",
   "metadata": {
    "colab_type": "text",
    "id": "g8IqukPA9vC0"
   },
   "source": [
    "## Run Object Detection"
   ]
  },
  {
   "cell_type": "code",
   "execution_count": null,
   "metadata": {
    "colab": {
     "base_uri": "https://localhost:8080/",
     "height": 807
    },
    "colab_type": "code",
    "executionInfo": {
     "elapsed": 12070,
     "status": "ok",
     "timestamp": 1555576779926,
     "user": {
      "displayName": "Patrick McBride",
      "photoUrl": "",
      "userId": "06244499779717589203"
     },
     "user_tz": 420
    },
    "id": "NYCQe9ex9oj3",
    "outputId": "91dc09bb-1791-477f-913c-01c10a533a0e"
   },
   "outputs": [],
   "source": [
    "# Load a random image from the images folder\n",
    "file_names = next(os.walk(IMAGE_DIR))[2]\n",
    "image = skimage.io.imread(os.path.join(IMAGE_DIR, random.choice(file_names)))\n",
    "\n",
    "# Run detection\n",
    "results = model.detect([image], verbose=1)\n",
    "\n",
    "# Visualize results\n",
    "r = results[0]\n",
    "visualize.display_instances(image, r['rois'], r['masks'], r['class_ids'], \n",
    "                            class_names, r['scores'])"
   ]
  },
  {
   "cell_type": "code",
   "execution_count": null,
   "metadata": {
    "colab": {
     "base_uri": "https://localhost:8080/",
     "height": 696
    },
    "colab_type": "code",
    "executionInfo": {
     "elapsed": 1756,
     "status": "ok",
     "timestamp": 1555576845371,
     "user": {
      "displayName": "Patrick McBride",
      "photoUrl": "",
      "userId": "06244499779717589203"
     },
     "user_tz": 420
    },
    "id": "1mrNkY5a9xS3",
    "outputId": "870f1b5a-b9b3-4dff-a1af-b39820a12d14"
   },
   "outputs": [],
   "source": [
    "# Load a random image from the images folder\n",
    "file_names = next(os.walk(IMAGE_DIR))[2]\n",
    "image = skimage.io.imread(os.path.join(IMAGE_DIR, '8734543718_37f6b8bd45_z.jpg'))\n",
    "\n",
    "# Run detection\n",
    "results = model.detect([image], verbose=1)\n",
    "\n",
    "# Visualize results\n",
    "r = results[0]\n",
    "visualize.display_instances(image, r['rois'], r['masks'], r['class_ids'], \n",
    "                            class_names, r['scores'])"
   ]
  },
  {
   "cell_type": "markdown",
   "metadata": {
    "colab_type": "text",
    "id": "aRuz2KLuHOMA"
   },
   "source": [
    "## Custom image\n",
    "You can upload an image to a third party website like\n",
    "\n",
    "*   [imgbb](https://imgbb.com/)\n",
    "*   [GitHub](https://github.com) repo raw image\n",
    "\n",
    "Then download the image url here with `wget`.\n",
    "\n",
    "We will also introduce using Google drive with Colab in the later section."
   ]
  },
  {
   "cell_type": "code",
   "execution_count": null,
   "metadata": {
    "colab": {
     "base_uri": "https://localhost:8080/",
     "height": 224
    },
    "colab_type": "code",
    "executionInfo": {
     "elapsed": 1070,
     "status": "ok",
     "timestamp": 1555576863743,
     "user": {
      "displayName": "Patrick McBride",
      "photoUrl": "",
      "userId": "06244499779717589203"
     },
     "user_tz": 420
    },
    "id": "lg47GK_9C4mb",
    "outputId": "feb221ec-b2af-4c27-9274-c83ac3ffa535"
   },
   "outputs": [],
   "source": [
    "!wget https://preview.ibb.co/cubifS/sh_expo.jpg -P ./images"
   ]
  },
  {
   "cell_type": "code",
   "execution_count": null,
   "metadata": {
    "colab": {
     "base_uri": "https://localhost:8080/",
     "height": 812
    },
    "colab_type": "code",
    "executionInfo": {
     "elapsed": 2227,
     "status": "ok",
     "timestamp": 1555576865383,
     "user": {
      "displayName": "Patrick McBride",
      "photoUrl": "",
      "userId": "06244499779717589203"
     },
     "user_tz": 420
    },
    "id": "QowhnmS2EqxU",
    "outputId": "d486214f-15b1-4ae0-9088-935b2eb2f866"
   },
   "outputs": [],
   "source": [
    "# Load a random image from the images folder\n",
    "file_names = next(os.walk(IMAGE_DIR))[2]\n",
    "image = skimage.io.imread(os.path.join(IMAGE_DIR, 'sh_expo.jpg'))\n",
    "\n",
    "# Run detection\n",
    "results = model.detect([image], verbose=1)\n",
    "\n",
    "# Visualize results\n",
    "r = results[0]\n",
    "visualize.display_instances(image, r['rois'], r['masks'], r['class_ids'], \n",
    "                            class_names, r['scores'])"
   ]
  },
  {
   "cell_type": "markdown",
   "metadata": {
    "colab_type": "text",
    "id": "A6IPpQ5R2R-e"
   },
   "source": [
    "## Process Video\n",
    "Download the video mp4 file."
   ]
  },
  {
   "cell_type": "code",
   "execution_count": null,
   "metadata": {
    "colab": {
     "base_uri": "https://localhost:8080/",
     "height": 309
    },
    "colab_type": "code",
    "executionInfo": {
     "elapsed": 2069,
     "status": "ok",
     "timestamp": 1555576868301,
     "user": {
      "displayName": "Patrick McBride",
      "photoUrl": "",
      "userId": "06244499779717589203"
     },
     "user_tz": 420
    },
    "id": "QSxgxJGyGBuf",
    "outputId": "d8c33b0f-775b-465d-da0a-4a5c2a111737"
   },
   "outputs": [],
   "source": [
    "!mkdir videos\n",
    "!wget https://github.com/Tony607/blog_statics/releases/download/v1.0/trailer1.mp4 -P ./videos"
   ]
  },
  {
   "cell_type": "code",
   "execution_count": null,
   "metadata": {
    "colab": {
     "base_uri": "https://localhost:8080/",
     "height": 34
    },
    "colab_type": "code",
    "executionInfo": {
     "elapsed": 906,
     "status": "ok",
     "timestamp": 1555576870604,
     "user": {
      "displayName": "Patrick McBride",
      "photoUrl": "",
      "userId": "06244499779717589203"
     },
     "user_tz": 420
    },
    "id": "BrYJWnZpr2Pm",
    "outputId": "02910b60-2feb-4df9-e286-91f159aad7d6"
   },
   "outputs": [],
   "source": [
    "!ls ./videos"
   ]
  },
  {
   "cell_type": "code",
   "execution_count": null,
   "metadata": {
    "colab": {},
    "colab_type": "code",
    "id": "z0o6sUx0sD3S"
   },
   "outputs": [],
   "source": [
    "import cv2\n",
    "import numpy as np\n",
    "\n",
    "\n",
    "def random_colors(N):\n",
    "    np.random.seed(1)\n",
    "    colors = [tuple(255 * np.random.rand(3)) for _ in range(N)]\n",
    "    return colors\n",
    "\n",
    "\n",
    "def apply_mask(image, mask, color, alpha=0.5):\n",
    "    \"\"\"apply mask to image\"\"\"\n",
    "    for n, c in enumerate(color):\n",
    "        image[:, :, n] = np.where(\n",
    "            mask == 1,\n",
    "            image[:, :, n] * (1 - alpha) + alpha * c,\n",
    "            image[:, :, n]\n",
    "        )\n",
    "    return image\n",
    "\n",
    "\n",
    "def display_instances(image, boxes, masks, ids, names, scores):\n",
    "    \"\"\"\n",
    "        take the image and results and apply the mask, box, and Label\n",
    "    \"\"\"\n",
    "    n_instances = boxes.shape[0]\n",
    "    colors = random_colors(n_instances)\n",
    "\n",
    "    if not n_instances:\n",
    "        print('NO INSTANCES TO DISPLAY')\n",
    "    else:\n",
    "        assert boxes.shape[0] == masks.shape[-1] == ids.shape[0]\n",
    "\n",
    "    for i, color in enumerate(colors):\n",
    "        if not np.any(boxes[i]):\n",
    "            continue\n",
    "\n",
    "        y1, x1, y2, x2 = boxes[i]\n",
    "        label = names[ids[i]]\n",
    "        score = scores[i] if scores is not None else None\n",
    "        caption = '{} {:.2f}'.format(label, score) if score else label\n",
    "        mask = masks[:, :, i]\n",
    "\n",
    "        image = apply_mask(image, mask, color)\n",
    "        image = cv2.rectangle(image, (x1, y1), (x2, y2), color, 2)\n",
    "        image = cv2.putText(\n",
    "            image, caption, (x1, y1), cv2.FONT_HERSHEY_COMPLEX, 0.7, color, 2\n",
    "        )\n",
    "\n",
    "    return image\n",
    "\n",
    "\n",
    "if __name__ == '__main__':\n",
    "    \"\"\"\n",
    "        test everything\n",
    "    \"\"\"\n",
    "    import os\n",
    "    import sys\n",
    "    import coco\n",
    "    import utils\n",
    "    import model as modellib\n",
    "    \n",
    "    # We use a K80 GPU with 24GB memory, which can fit 3 images.\n",
    "    batch_size = 3\n",
    "\n",
    "    ROOT_DIR = os.getcwd()\n",
    "    MODEL_DIR = os.path.join(ROOT_DIR, \"logs\")\n",
    "    VIDEO_DIR = os.path.join(ROOT_DIR, \"videos\")\n",
    "    VIDEO_SAVE_DIR = os.path.join(VIDEO_DIR, \"save\")\n",
    "    COCO_MODEL_PATH = os.path.join(ROOT_DIR, \"mask_rcnn_coco.h5\")\n",
    "    if not os.path.exists(COCO_MODEL_PATH):\n",
    "        utils.download_trained_weights(COCO_MODEL_PATH)\n",
    "\n",
    "    class InferenceConfig(coco.CocoConfig):\n",
    "        GPU_COUNT = 1\n",
    "        IMAGES_PER_GPU = batch_size\n",
    "\n",
    "    config = InferenceConfig()\n",
    "    config.display()\n",
    "\n",
    "    model = modellib.MaskRCNN(\n",
    "        mode=\"inference\", model_dir=MODEL_DIR, config=config\n",
    "    )\n",
    "    model.load_weights(COCO_MODEL_PATH, by_name=True)\n",
    "    class_names = [\n",
    "        'BG', 'person', 'bicycle', 'car', 'motorcycle', 'airplane',\n",
    "        'bus', 'train', 'truck', 'boat', 'traffic light',\n",
    "        'fire hydrant', 'stop sign', 'parking meter', 'bench', 'bird',\n",
    "        'cat', 'dog', 'horse', 'sheep', 'cow', 'elephant', 'bear',\n",
    "        'zebra', 'giraffe', 'backpack', 'umbrella', 'handbag', 'tie',\n",
    "        'suitcase', 'frisbee', 'skis', 'snowboard', 'sports ball',\n",
    "        'kite', 'baseball bat', 'baseball glove', 'skateboard',\n",
    "        'surfboard', 'tennis racket', 'bottle', 'wine glass', 'cup',\n",
    "        'fork', 'knife', 'spoon', 'bowl', 'banana', 'apple',\n",
    "        'sandwich', 'orange', 'broccoli', 'carrot', 'hot dog', 'pizza',\n",
    "        'donut', 'cake', 'chair', 'couch', 'potted plant', 'bed',\n",
    "        'dining table', 'toilet', 'tv', 'laptop', 'mouse', 'remote',\n",
    "        'keyboard', 'cell phone', 'microwave', 'oven', 'toaster',\n",
    "        'sink', 'refrigerator', 'book', 'clock', 'vase', 'scissors',\n",
    "        'teddy bear', 'hair drier', 'toothbrush'\n",
    "    ]\n",
    "\n",
    "    capture = cv2.VideoCapture(os.path.join(VIDEO_DIR, 'trailer1.mp4'))\n",
    "    try:\n",
    "        if not os.path.exists(VIDEO_SAVE_DIR):\n",
    "            os.makedirs(VIDEO_SAVE_DIR)\n",
    "    except OSError:\n",
    "        print ('Error: Creating directory of data')\n",
    "    frames = []\n",
    "    frame_count = 0\n",
    "    # these 2 lines can be removed if you dont have a 1080p camera.\n",
    "    capture.set(cv2.CAP_PROP_FRAME_WIDTH, 1920)\n",
    "    capture.set(cv2.CAP_PROP_FRAME_HEIGHT, 1080)\n",
    "\n",
    "    while True:\n",
    "        ret, frame = capture.read()\n",
    "        # Bail out when the video file ends\n",
    "        if not ret:\n",
    "            break\n",
    "        \n",
    "        # Save each frame of the video to a list\n",
    "        frame_count += 1\n",
    "        frames.append(frame)\n",
    "        print('frame_count :{0}'.format(frame_count))\n",
    "        if len(frames) == batch_size:\n",
    "            results = model.detect(frames, verbose=0)\n",
    "            print('Predicted')\n",
    "            for i, item in enumerate(zip(frames, results)):\n",
    "                frame = item[0]\n",
    "                r = item[1]\n",
    "                frame = display_instances(\n",
    "                    frame, r['rois'], r['masks'], r['class_ids'], class_names, r['scores']\n",
    "                )\n",
    "                name = '{0}.jpg'.format(frame_count + i - batch_size)\n",
    "                name = os.path.join(VIDEO_SAVE_DIR, name)\n",
    "                cv2.imwrite(name, frame)\n",
    "                print('writing to file:{0}'.format(name))\n",
    "            # Clear the frames array to start the next batch\n",
    "            frames = []\n",
    "\n",
    "    capture.release()"
   ]
  },
  {
   "cell_type": "code",
   "execution_count": null,
   "metadata": {
    "colab": {},
    "colab_type": "code",
    "id": "OKvhT2uCsIl5"
   },
   "outputs": [],
   "source": [
    "!ls ./videos/save"
   ]
  },
  {
   "cell_type": "code",
   "execution_count": null,
   "metadata": {
    "colab": {
     "base_uri": "https://localhost:8080/",
     "height": 34
    },
    "colab_type": "code",
    "executionInfo": {
     "elapsed": 271,
     "status": "ok",
     "timestamp": 1555578146204,
     "user": {
      "displayName": "Patrick McBride",
      "photoUrl": "",
      "userId": "06244499779717589203"
     },
     "user_tz": 420
    },
    "id": "VWDC3g8OARuc",
    "outputId": "dc9fda35-1bfa-416a-b3b1-2a33a206020f"
   },
   "outputs": [],
   "source": [
    "video = cv2.VideoCapture(os.path.join(VIDEO_DIR, 'trailer1.mp4'));\n",
    "\n",
    "# Find OpenCV version\n",
    "(major_ver, minor_ver, subminor_ver) = (cv2.__version__).split('.')\n",
    "\n",
    "if int(major_ver)  < 3 :\n",
    "    fps = video.get(cv2.cv.CV_CAP_PROP_FPS)\n",
    "    print(\"Frames per second using video.get(cv2.cv.CV_CAP_PROP_FPS): {0}\".format(fps))\n",
    "else :\n",
    "    fps = video.get(cv2.CAP_PROP_FPS)\n",
    "    print(\"Frames per second using video.get(cv2.CAP_PROP_FPS) : {0}\".format(fps))\n",
    "\n",
    "video.release();"
   ]
  },
  {
   "cell_type": "code",
   "execution_count": null,
   "metadata": {
    "colab": {
     "base_uri": "https://localhost:8080/",
     "height": 34
    },
    "colab_type": "code",
    "executionInfo": {
     "elapsed": 25144,
     "status": "ok",
     "timestamp": 1555578210112,
     "user": {
      "displayName": "Patrick McBride",
      "photoUrl": "",
      "userId": "06244499779717589203"
     },
     "user_tz": 420
    },
    "id": "ObiV83ORsg6o",
    "outputId": "36934d1c-4176-4499-a4d9-112de7e27016"
   },
   "outputs": [],
   "source": [
    "def make_video(outvid, images=None, fps=30, size=None,\n",
    "               is_color=True, format=\"FMP4\"):\n",
    "    \"\"\"\n",
    "    Create a video from a list of images.\n",
    " \n",
    "    @param      outvid      output video\n",
    "    @param      images      list of images to use in the video\n",
    "    @param      fps         frame per second\n",
    "    @param      size        size of each frame\n",
    "    @param      is_color    color\n",
    "    @param      format      see http://www.fourcc.org/codecs.php\n",
    "    @return                 see http://opencv-python-tutroals.readthedocs.org/en/latest/py_tutorials/py_gui/py_video_display/py_video_display.html\n",
    " \n",
    "    The function relies on http://opencv-python-tutroals.readthedocs.org/en/latest/.\n",
    "    By default, the video will have the size of the first image.\n",
    "    It will resize every image to this size before adding them to the video.\n",
    "    \"\"\"\n",
    "    from cv2 import VideoWriter, VideoWriter_fourcc, imread, resize\n",
    "    fourcc = VideoWriter_fourcc(*format)\n",
    "    vid = None\n",
    "    for image in images:\n",
    "        if not os.path.exists(image):\n",
    "            raise FileNotFoundError(image)\n",
    "        img = imread(image)\n",
    "        if vid is None:\n",
    "            if size is None:\n",
    "                size = img.shape[1], img.shape[0]\n",
    "            vid = VideoWriter(outvid, fourcc, float(fps), size, is_color)\n",
    "        if size[0] != img.shape[1] and size[1] != img.shape[0]:\n",
    "            img = resize(img, size)\n",
    "        vid.write(img)\n",
    "    vid.release()\n",
    "    return vid\n",
    "\n",
    "import glob\n",
    "import os\n",
    "\n",
    "# Directory of images to run detection on\n",
    "ROOT_DIR = os.getcwd()\n",
    "VIDEO_DIR = os.path.join(ROOT_DIR, \"videos\")\n",
    "VIDEO_SAVE_DIR = os.path.join(VIDEO_DIR, \"save\")\n",
    "images = list(glob.iglob(os.path.join(VIDEO_SAVE_DIR, '*.*')))\n",
    "# Sort the images by integer index\n",
    "images = sorted(images, key=lambda x: float(os.path.split(x)[1][:-3]))\n",
    "\n",
    "outvid = os.path.join(VIDEO_DIR, \"out.mp4\")\n",
    "make_video(outvid, images, fps=30)"
   ]
  },
  {
   "cell_type": "code",
   "execution_count": null,
   "metadata": {
    "colab": {
     "base_uri": "https://localhost:8080/",
     "height": 119
    },
    "colab_type": "code",
    "executionInfo": {
     "elapsed": 1235,
     "status": "ok",
     "timestamp": 1555579262723,
     "user": {
      "displayName": "Patrick McBride",
      "photoUrl": "",
      "userId": "06244499779717589203"
     },
     "user_tz": 420
    },
    "id": "S1KYLXXD0YKd",
    "outputId": "aa50aed2-313d-4404-b4e0-05beda012215"
   },
   "outputs": [],
   "source": [
    "!ls -alh ./videos/"
   ]
  },
  {
   "cell_type": "code",
   "execution_count": null,
   "metadata": {
    "colab": {},
    "colab_type": "code",
    "id": "T6vgRRXH0hwa"
   },
   "outputs": [],
   "source": []
  },
  {
   "cell_type": "markdown",
   "metadata": {
    "colab_type": "text",
    "id": "MD-3Z88I6lng"
   },
   "source": [
    "### Downlod the output video to our local machine"
   ]
  },
  {
   "cell_type": "code",
   "execution_count": null,
   "metadata": {
    "colab": {},
    "colab_type": "code",
    "id": "ScC6ZUJq1Pc_"
   },
   "outputs": [],
   "source": [
    "from google.colab import files\n",
    "files.download('videos/out.mp4')"
   ]
  },
  {
   "cell_type": "code",
   "execution_count": null,
   "metadata": {
    "colab": {
     "base_uri": "https://localhost:8080/",
     "height": 153
    },
    "colab_type": "code",
    "executionInfo": {
     "elapsed": 1960,
     "status": "ok",
     "timestamp": 1555579288951,
     "user": {
      "displayName": "Patrick McBride",
      "photoUrl": "",
      "userId": "06244499779717589203"
     },
     "user_tz": 420
    },
    "id": "d7kJVPEl5NYO",
    "outputId": "c8dd0211-8191-4497-afbb-8813d06284a8"
   },
   "outputs": [],
   "source": [
    "!ls"
   ]
  }
 ],
 "metadata": {
  "accelerator": "GPU",
  "colab": {
   "collapsed_sections": [],
   "name": "Colab_Mask R-CNN Demo.ipynb",
   "provenance": [
    {
     "file_id": "11yXcMidH2rmnvy5GxFAr0M_0mABr1M_-",
     "timestamp": 1555574015756
    },
    {
     "file_id": "1nexOzh1tzlvjiFJDCJmNaULXulgqPUoz",
     "timestamp": 1521945703738
    },
    {
     "file_id": "/v2/external/notebooks/gpu.ipynb",
     "timestamp": 1521720660186
    }
   ],
   "toc_visible": true,
   "version": "0.3.2"
  },
  "kernelspec": {
   "display_name": "Python 3",
   "language": "python",
   "name": "python3"
  },
  "language_info": {
   "codemirror_mode": {
    "name": "ipython",
    "version": 3
   },
   "file_extension": ".py",
   "mimetype": "text/x-python",
   "name": "python",
   "nbconvert_exporter": "python",
   "pygments_lexer": "ipython3",
   "version": "3.7.4"
  }
 },
 "nbformat": 4,
 "nbformat_minor": 4
}
