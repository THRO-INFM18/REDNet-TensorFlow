{
 "cells": [
  {
   "cell_type": "markdown",
   "metadata": {
    "pycharm": {
     "is_executing": false
    }
   },
   "source": [
    "# REDNet Autoencoder"
   ]
  },
  {
   "cell_type": "code",
   "execution_count": 47,
   "outputs": [
    {
     "name": "stdout",
     "text": [
      "Current Dir:  D:\\OneDrive\\Code\\rednet_tensorflow\n"
     ],
     "output_type": "stream"
    }
   ],
   "source": [
    "import os\n",
    "WORKDIR = os.path.realpath(\"D:/OneDrive/Code/rednet_tensorflow/\")\n",
    "os.chdir(WORKDIR)\n",
    "print(\"Current Dir: \", os.getcwd())"
   ],
   "metadata": {
    "collapsed": false,
    "pycharm": {
     "name": "#%%\n",
     "is_executing": false
    }
   }
  },
  {
   "cell_type": "code",
   "execution_count": 48,
   "metadata": {
    "pycharm": {
     "name": "#%%\n",
     "is_executing": false
    }
   },
   "outputs": [
    {
     "name": "stdout",
     "text": [
      "1.14.0\n"
     ],
     "output_type": "stream"
    }
   ],
   "source": [
    "from __future__ import print_function, absolute_import, with_statement\n",
    "from IPython import display as ipythondisplay\n",
    "import tensorflow as tf\n",
    "tf.enable_eager_execution()\n",
    "print(tf.__version__)\n",
    "\n",
    "import h5py\n",
    "#save_keras_model, plot_progress, plot_loss_acc, myplot, myplot_history\n",
    "from dl_utils import *\n",
    "\n",
    "# REDNet\n",
    "from rednet import *\n",
    "from DatasetLoader import HDF5DatasetLoader"
   ]
  },
  {
   "cell_type": "code",
   "execution_count": 49,
   "outputs": [
    {
     "name": "stdout",
     "text": [
      "Local Dataset Path: D:\\OneDrive\\Code\\rednet_tensorflow\\datasets\\train_face.h5\n"
     ],
     "output_type": "stream"
    }
   ],
   "source": [
    "data_local = True\n",
    "\n",
    "db_share = \"https://www.dropbox.com/s/l5iqduhe0gwxumq/train_face.h5?dl=1\"\n",
    "dataset_name = \"train_face.h5\"\n",
    "dataset_dir = os.path.join(WORKDIR, \"datasets\")\n",
    "dataset_path = os.path.join(dataset_dir, dataset_name)\n",
    "\n",
    "# Get the training data: both images from CelebA and ImageNet\n",
    "if h5py.is_hdf5(dataset_path) is True:\n",
    "  print(\"Local Dataset Path: \" + dataset_path)\n",
    "else:\n",
    "  path_to_dataset = tf.keras.utils.get_file(dataset_name, db_share)#,cache_dir=DATADIR)\n",
    "  print(\"Dropbox Dataset Path: \" + path_to_dataset)"
   ],
   "metadata": {
    "collapsed": false,
    "pycharm": {
     "name": "#%%\n",
     "is_executing": false
    }
   }
  },
  {
   "cell_type": "code",
   "execution_count": 50,
   "metadata": {
    "scrolled": true,
    "pycharm": {
     "is_executing": false
    }
   },
   "outputs": [
    {
     "name": "stdout",
     "text": [
      "Opening D:\\OneDrive\\Code\\rednet_tensorflow\\datasets\\train_face.h5\n",
      "Loading data into memory...\n",
      "(109914, 64, 64, 3)\n[     0      1      2 ... 109911 109912 109913]\n"
     ],
     "output_type": "stream"
    }
   ],
   "source": [
    "# Instantiate a TrainingDatasetLoader using the downloaded dataset\n",
    "loader = HDF5DatasetLoader(dataset_path)\n",
    "print(loader.image_dims)\n",
    "print(loader.train_inds)"
   ]
  },
  {
   "cell_type": "code",
   "execution_count": null,
   "outputs": [],
   "source": [
    "rednet = REDNet(loss_fn='binary')\n"
   ],
   "metadata": {
    "collapsed": false,
    "pycharm": {
     "name": "#%%\n"
    }
   }
  },
  {
   "cell_type": "code",
   "execution_count": 3,
   "metadata": {},
   "outputs": [],
   "source": [
    "opt = tf.keras.optimizers.Adam(lr=0.0001)\n",
    "rednet.compile(loss='mean_squared_error', \n",
    "               optimizer=opt, \n",
    "               metrics=['accuracy', 'mae'])"
   ]
  },
  {
   "cell_type": "code",
   "execution_count": 10,
   "metadata": {
    "pycharm": {
     "is_executing": false
    }
   },
   "outputs": [
    {
     "name": "stdout",
     "text": [
      "D:\\OneDrive\\Code\\rednet_tensorflow\n"
     ],
     "output_type": "stream"
    }
   ],
   "source": [
    "%cd D:/OneDrive/Code/rednet_tensorflow"
   ]
  },
  {
   "cell_type": "code",
   "execution_count": null,
   "outputs": [],
   "source": [
    "\n"
   ],
   "metadata": {
    "collapsed": false,
    "pycharm": {
     "name": "#%%\n"
    }
   }
  }
 ],
 "metadata": {
  "kernelspec": {
   "name": "pycharm-31725c3d",
   "language": "python",
   "display_name": "PyCharm (rednet_tensorflow)"
  },
  "language_info": {
   "codemirror_mode": {
    "name": "ipython",
    "version": 3
   },
   "file_extension": ".py",
   "mimetype": "text/x-python",
   "name": "python",
   "nbconvert_exporter": "python",
   "pygments_lexer": "ipython3",
   "version": "3.6.8"
  },
  "pycharm": {
   "stem_cell": {
    "cell_type": "raw",
    "source": [],
    "metadata": {
     "collapsed": false
    }
   }
  }
 },
 "nbformat": 4,
 "nbformat_minor": 4
}